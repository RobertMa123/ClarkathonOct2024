{
 "cells": [
  {
   "cell_type": "code",
   "execution_count": 20,
   "metadata": {},
   "outputs": [
    {
     "name": "stdout",
     "output_type": "stream",
     "text": [
      "Post 1:\n",
      "Title: No title\n",
      "Content:\n",
      "itbericeJun 14Pinned Post\n",
      "Welcome to everyone! Please feel free to discuss and post all things positive about Star Trek! This is a safe place to share why we love this community.GIF bypluckywallflower\n",
      "#Star Trek7comments👍55👍isagrimorie,tea-earl-grey,whatelsecanwedonow,myopicfascination,warpfactorseven,lostyesterday,gettheorion,genius2mania,wonderrwoman00,sweetsouldhavernas,and 45 othersreacted with:thumbs_up:😍13😍eyeshadowfreak224,azalealunalight,moviesaremylife,bashfoal,iamstartraveller776,oldmetalhead21,doggo-v10,xkawaiixscififan,theindieprincessblog,anakinsafterlife,and 3 othersreacted with:smiling_face_with_heart_eyes:🍹6🍹rocket-sith,oldmetalhead21,ludwinas,xkawaiixscififan,bevcrusherscandle,andstargazer-lunareacted with:tropical_drink:💫3💫prettylittlelifeforms,oldmetalhead21,andstargazer-lunareacted with:dizzy:🎺4🎺gleamingsilence,rocket-sith,stargazer-luna,andjustazebrareacted with:trumpet:\n",
      "\n",
      "Post 2:\n",
      "Title: No title\n",
      "Content:\n",
      "orcchavez13h ago\n",
      "Just finished my TNG rewatch (3rd time in my life)Excited to move on to DS9 which I watched as it aired with my Dad and have not watched since.GIF byspockvarietyhour\n",
      "#ds9#tng#rewatch1comment🖖9🖖ledbet,justazebra,wonderrwoman00,oldmetalhead21,moviesaremylife,ladycreepyorion,cecilyacat,itberice,andsquareshapedboopreacted with:vulcan_salute:\n",
      "\n",
      "Post 3:\n",
      "Title: No title\n",
      "Content:\n",
      "nerdyshy14h ago\n",
      "I picked out the original tv series to watch and I'm on episode 1 and star trek prodigy 💗🥰 I'm enjoying both so far\n",
      "#star trek#star trek original series#star trek prodigy2comments🖖6🖖moviesaremylife,weerd1,phonoirlex,ussjellyfish,oldmetalhead21,andcecilyacatreacted with:vulcan_salute:\n",
      "\n",
      "Post 4:\n",
      "Title: No title\n",
      "Content:\n",
      "nerdyshy2d ago\n",
      "Hi 👋🏾 ❤️ I want to be a star trek fan but I don't know where I should start as its a large universe/franchise. If I could get a guide/ info, that would be great! Thanks 💜\n",
      "8comments🖖7🖖gettheorion,stargazer-luna,cecilyacat,mygeekgothworld11,secondearthling,hera104,andoldmetalhead21reacted with:vulcan_salute:\n",
      "\n",
      "Post 5:\n",
      "Title: No title\n",
      "Content:\n",
      "orcchavezreblogged2d ago\n",
      "nonbinary-odoFollowOct 6There should have been an episode where Odo gets zapped while shifted into an object and the zap does something to his morphogenic matrix so he's stuck like that and the whole episode is everyone doing their best acting scenes with a mug or perhaps a bagdeepshitpostsnineFollowOct 11bonus if the station crew know it's happened, but don't know *which* suspicious object Odo is stuck as. So they're going round talking to whatever object seems out of place trying to find him.By the end of the epsiode they deduce he's this one odo ass looking bottle at Quarks Bar (because of course he's there) and bring it to the infirmary. You get a scene of Bashir and Dax leaning over this bottle lain delicately on a regular sized bed in the infirmary with tricorders debating how to turn Odo back.And then Odo walks in and asks what they're doing.\n",
      "#odo#odoposting#ds9Comment😭6😭mothusingtheinternet,oldmetalhead21,stargazer-luna,tinderbox210,ledbet,andazalealunalightreacted with:loudly_crying_face:😂6😂szkot-pielgrzym,gettheorion,stargazer-luna,cecilyacat,azalealunalight,andsirwonkaareacted with:face_with_tears_of_joy:🖖2🖖weerd1andstargazer-lunareacted with:vulcan_salute:\n",
      "\n",
      "Post 6:\n",
      "Title: No title\n",
      "Content:\n",
      "orcchavezrebloggedraykarr3d ago\n",
      "slugdge-boyFollowOct 10A ds9 episode where every shot pays way too much attention to random set pieces in a manner that heavily implies it may be Odo while the action happens in the background. Odo does not appear or feature in the plot of the episode at all.\n",
      "#odo#ds9Comment🤣14🤣stargazer-luna,secondearthling,oldmetalhead21,stardustinthesky,moviesaremylife,szkot-pielgrzym,cecilyacat,gettheorion,themirrortribble,percythejedi,and 4 othersreacted with:rolling_on_the_floor_laughing:😆2😆hc1701andoldmetalhead21reacted with:grinning_squinting_face:👏1👏weerd1reacted with:clapping_hands:\n",
      "\n",
      "Post 7:\n",
      "Title: No title\n",
      "Content:\n",
      "orcchavezreblogged4d ago\n",
      "quasi-normalcyFollow4d agoI admire a drone withbothits eyesandits mouth done up in implants.\n",
      "#gimp borg#star trek the next generation#tng2comments🫣7🫣weerd1,justazebra,oldmetalhead21,ladycreepyorion,stargazer-luna,readytospock,andchaos-whateverreacted with:face_with_peeking_eye:🙊2🙊gettheorionandstargazer-lunareacted with:speak_no_evil_monkey:\n",
      "\n",
      "Post 8:\n",
      "Title: No title\n",
      "Content:\n",
      "orcchavezOct 9\n",
      "Stolen from user@starblorb.Still cannot repost to communities.\n",
      "#bbb#bender bending rodriguez#bender#blackjack and hookers#ds9Comment🤣19🤣weerd1,ladycreepyorion,cecilyacat,hc1701,stargazer-luna,itberice,myopicfascination,gettheorion,percythejedi,squareshapedboop,and 9 othersreacted with:rolling_on_the_floor_laughing:\n",
      "\n",
      "Post 9:\n",
      "Title: No title\n",
      "Content:\n",
      "glittery-epidermisrebloggedOct 6\n",
      "plushiedataFollowOct 6did someone already do the \"it's a hard-knock life\" red shirt edit yet? 👀\n",
      "Comment😂7😂weerd1,secondearthling,oldmetalhead21,myopicfascination,readytospock,stargazer-luna,andtheindieprincessblogreacted with:face_with_tears_of_joy:🤩2🤩womensrights22andthemirrortribblereacted with:star_struck:\n",
      "\n",
      "Post 10:\n",
      "Title: No title\n",
      "Content:\n",
      "orcchavezOct 6\n",
      "Does anyone else get a huge spike of serotonin when you hear Majel Barrett's \"Last time on Star Trek\", or is it just me?GIF byrosalie-starfall\n",
      "2comments👏7👏weerd1,wonderrwoman00,isagrimorie,azalealunalight,sarah-paulsons-bottom-lip,stargazer-luna,andtheindieprincessblogreacted with:clapping_hands:😘6😘themirrortribble,ussjellyfish,boo-trekking,womensrights22,stargazer-luna,andledbetreacted with:face_blowing_a_kiss:\n",
      "\n"
     ]
    }
   ],
   "source": [
    "#WORKING VERSION\n",
    "import requests\n",
    "from bs4 import BeautifulSoup\n",
    "\n",
    "def scrape_tumblr(url):\n",
    "    # Send a request to the Tumblr page\n",
    "    response = requests.get(url)\n",
    "    \n",
    "    # Check if the request was successful\n",
    "    if response.status_code != 200:\n",
    "        print(f\"Error: Unable to access the page. Status code {response.status_code}\")\n",
    "        return None\n",
    "    \n",
    "    # Parse the page content using BeautifulSoup\n",
    "    soup = BeautifulSoup(response.content, 'html.parser')\n",
    "    \n",
    "    # Extract all blog post content\n",
    "    posts = soup.find_all('article')  # 'article' is often used to wrap posts; may vary by theme\n",
    "    \n",
    "    for index, post in enumerate(posts, start=1):\n",
    "        # Extract the title of the post, if available\n",
    "        title_tag = post.find('h2')\n",
    "        title = title_tag.get_text(strip=True) if title_tag else 'No title'\n",
    "        \n",
    "        # Extract all relevant content from the post (text, images, etc.)\n",
    "        content_elements = post.find_all(['p', 'div', 'h2', 'h3', 'ul', 'ol', 'li', 'img'])\n",
    "        \n",
    "        content = []\n",
    "        seen_text = set()  # To keep track of unique text\n",
    "        \n",
    "        for element in content_elements:\n",
    "            # Get the text from the element\n",
    "            text = element.get_text(strip=True)\n",
    "            check = {text: 0}\n",
    "            for i in seen_text:\n",
    "                if text in i:\n",
    "                    check[text]=check[text]+1\n",
    "            \n",
    "            \n",
    "            # If text has already been captured, skip this element and its children\n",
    "            if text and check[text]==0:\n",
    "                # Handle images by getting their URL\n",
    "                if element.name == 'img':\n",
    "                    img_url = element.get('src')\n",
    "                    if img_url and img_url not in seen_text:\n",
    "                        content.append(f\"[Image: {img_url}]\")\n",
    "                        seen_text.add(img_url)\n",
    "                else:\n",
    "                    # Capture only the parent text (avoid repeating child text)\n",
    "                    content.append(text)\n",
    "                    seen_text.add(text)\n",
    "        \n",
    "        # Join all content parts together\n",
    "        full_content = '\\n'.join(content)\n",
    "        \n",
    "        # Print the post details\n",
    "        print(f\"Post {index}:\")\n",
    "        print(f\"Title: {title}\")\n",
    "        print(f\"Content:\\n{full_content}\\n\")\n",
    "\n",
    "if __name__ == \"__main__\":\n",
    "    # Replace with the Tumblr blog URL you want to scrape\n",
    "    tumblr_url = \"https://www.tumblr.com/communities/positive-star-trek-community\"\n",
    "    \n",
    "    scrape_tumblr(tumblr_url)\n"
   ]
  },
  {
   "cell_type": "code",
   "execution_count": 18,
   "metadata": {},
   "outputs": [
    {
     "data": {
      "text/plain": [
       "True"
      ]
     },
     "execution_count": 18,
     "metadata": {},
     "output_type": "execute_result"
    }
   ],
   "source": [
    "a= 'abc' in 'abcdefghi'\n",
    "a"
   ]
  },
  {
   "cell_type": "code",
   "execution_count": 2,
   "metadata": {},
   "outputs": [],
   "source": [
    "import tumblr as t\n",
    "df = t.get_communities(\"poaching\")"
   ]
  },
  {
   "cell_type": "code",
   "execution_count": 4,
   "metadata": {},
   "outputs": [],
   "source": [
    "string = t.scrape_tumblr(df[\"link\"][0])"
   ]
  },
  {
   "cell_type": "code",
   "execution_count": 5,
   "metadata": {},
   "outputs": [
    {
     "name": "stderr",
     "output_type": "stream",
     "text": [
      "c:\\Users\\Alexander\\Documents\\Github\\ClarkathonOct2024\\.conda\\Lib\\site-packages\\tqdm\\auto.py:21: TqdmWarning: IProgress not found. Please update jupyter and ipywidgets. See https://ipywidgets.readthedocs.io/en/stable/user_install.html\n",
      "  from .autonotebook import tqdm as notebook_tqdm\n"
     ]
    },
    {
     "data": {
      "text/plain": [
       "\"This Tumblr community is a space for home cooks of all skill levels to share recipes, discuss kitchen woes, and offer support. It's a place to find inspiration for new meals, troubleshoot culinary challenges, and connect with others who share a passion for food. The conversation is generally helpful and positive, with a focus on making cooking accessible and enjoyable for everyone. \\n\""
      ]
     },
     "execution_count": 5,
     "metadata": {},
     "output_type": "execute_result"
    }
   ],
   "source": [
    "import gemini as gem\n",
    "gem.summary_from_post_text(df[\"name\"][0], string)"
   ]
  }
 ],
 "metadata": {
  "kernelspec": {
   "display_name": "Python 3",
   "language": "python",
   "name": "python3"
  },
  "language_info": {
   "codemirror_mode": {
    "name": "ipython",
    "version": 3
   },
   "file_extension": ".py",
   "mimetype": "text/x-python",
   "name": "python",
   "nbconvert_exporter": "python",
   "pygments_lexer": "ipython3",
   "version": "3.11.10"
  }
 },
 "nbformat": 4,
 "nbformat_minor": 2
}
